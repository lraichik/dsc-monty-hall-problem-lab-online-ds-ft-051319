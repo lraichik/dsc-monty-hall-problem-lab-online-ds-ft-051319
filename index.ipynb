{
 "cells": [
  {
   "cell_type": "markdown",
   "metadata": {},
   "source": [
    "# The Monty Hall Problem\n",
    "\n",
    "## Introduction\n",
    "\n",
    "The Monty Hall problem is a famous little puzzle from a game show. It goes like this: you are presented with 3 doors. Behind two are goats and behind the third is a car. You are asked to select a door; if you select the door with the car, you win! After selecting, the host then opens one of the remaining two doors, revealing a goat. The host then asks if you would like to switch doors or stick with your original choice. What would you do? Does it matter?\n",
    "\n",
    "## Objectives\n",
    "\n",
    "You will be able to:\n",
    "* Solve the monty hall problem using simulations"
   ]
  },
  {
   "cell_type": "markdown",
   "metadata": {},
   "source": [
    "## Run a Simulation\n",
    "\n",
    "This is not a traditional application of Bayes' Theorem, so trying to formulate the problem as such is tricky at best. That said, the scenario does capture the motivating conception behind Bayesian statistics: updating our beliefs in the face of additional evidence. With this, you'll employ another frequently used tool of Bayesian's&mdash;running a simulation. To do this, generate a random integer between one and three to represent the door hiding the car. Then, generate a second integer between one and three representing the player's selection. Then, of those the contestant did not choose, select a door concealing a goat to reveal. Record the results of the simulated game if they changed versus if they did not. Repeat this process a thousand (or more) times. Finally, plot the results of your simulation as a line graph. The x-axis should be the number of simulations, and the y-axis should be the probability of winning. (There should be two lines on the graph, one for switching doors, and the other for keeping the original selection.)"
   ]
  },
  {
   "cell_type": "code",
   "execution_count": 32,
   "metadata": {},
   "outputs": [],
   "source": [
    "import numpy as np\n",
    "import random"
   ]
  },
  {
   "cell_type": "code",
   "execution_count": 101,
   "metadata": {},
   "outputs": [],
   "source": [
    "import matplotlib.pyplot as plt\n",
    "%matplotlib inline"
   ]
  },
  {
   "cell_type": "code",
   "execution_count": 77,
   "metadata": {},
   "outputs": [
    {
     "data": {
      "text/plain": [
       "2"
      ]
     },
     "execution_count": 77,
     "metadata": {},
     "output_type": "execute_result"
    }
   ],
   "source": [
    "car = np.random.randint(0,3)\n",
    "car"
   ]
  },
  {
   "cell_type": "code",
   "execution_count": 78,
   "metadata": {},
   "outputs": [
    {
     "data": {
      "text/plain": [
       "0"
      ]
     },
     "execution_count": 78,
     "metadata": {},
     "output_type": "execute_result"
    }
   ],
   "source": [
    "selection = np.random.randint(0,3)\n",
    "selection"
   ]
  },
  {
   "cell_type": "code",
   "execution_count": 79,
   "metadata": {},
   "outputs": [],
   "source": [
    "doors = [0,1,2]"
   ]
  },
  {
   "cell_type": "code",
   "execution_count": 116,
   "metadata": {
    "scrolled": true
   },
   "outputs": [
    {
     "name": "stdout",
     "output_type": "stream",
     "text": [
      "Car behind door 1\n",
      "You chose door 2\n",
      "Opened door: 0 \n",
      "Do you want to change doors?\n",
      "I do want to change doors. \n",
      "Selection: 1 \n",
      "You got a Car!\n",
      "\n",
      "\n",
      "Car behind door 2\n",
      "You chose door 1\n",
      "Opened door: 0 \n",
      "Do you want to change doors?\n",
      "I do want to change doors. \n",
      "Selection: 2 \n",
      "You got a Car!\n",
      "\n",
      "\n",
      "Car behind door 2\n",
      "You chose door 1\n",
      "Opened door: 0 \n",
      "Do you want to change doors?\n",
      "I do want to change doors. \n",
      "Selection: 2 \n",
      "You got a Car!\n",
      "\n",
      "\n",
      "Car behind door 0\n",
      "You chose door 2\n",
      "Opened door: 1 \n",
      "Do you want to change doors?\n",
      "I do want to change doors. \n",
      "Selection: 0 \n",
      "You got a Car!\n",
      "\n",
      "\n",
      "Car behind door 2\n",
      "You chose door 2\n",
      "Opened door: 0 \n",
      "Do you want to change doors?\n",
      "I do not want to change doors. \n",
      "Selection: 1 \n",
      "You got a Goat!\n",
      "\n",
      "\n",
      "Car behind door 0\n",
      "You chose door 0\n",
      "Opened door: 2 \n",
      "Do you want to change doors?\n",
      "I do not want to change doors. \n",
      "Selection: 1 \n",
      "You got a Goat!\n",
      "\n",
      "\n",
      "Car behind door 1\n",
      "You chose door 2\n",
      "Opened door: 0 \n",
      "Do you want to change doors?\n",
      "I do want to change doors. \n",
      "Selection: 1 \n",
      "You got a Car!\n",
      "\n",
      "\n",
      "Car behind door 1\n",
      "You chose door 0\n",
      "Opened door: 2 \n",
      "Do you want to change doors?\n",
      "I do want to change doors. \n",
      "Selection: 1 \n",
      "You got a Car!\n",
      "\n",
      "\n",
      "Car behind door 1\n",
      "You chose door 0\n",
      "Opened door: 2 \n",
      "Do you want to change doors?\n",
      "I do want to change doors. \n",
      "Selection: 1 \n",
      "You got a Car!\n",
      "\n",
      "\n",
      "Car behind door 2\n",
      "You chose door 1\n",
      "Opened door: 0 \n",
      "Do you want to change doors?\n",
      "I do want to change doors. \n",
      "Selection: 2 \n",
      "You got a Car!\n",
      "\n",
      "\n"
     ]
    }
   ],
   "source": [
    "change_won = 0\n",
    "change_lost = 0\n",
    "\n",
    "for i in range(10):\n",
    "    car = np.random.randint(0,3)\n",
    "    print(f'Car behind door {car}')\n",
    "    selection = np.random.randint(0,3)\n",
    "    print(f'You chose door {selection}')\n",
    "    doors = [0,1,2]\n",
    "    if car != selection:\n",
    "        doors.remove(selection)\n",
    "        doors.remove(car)\n",
    "        opened_door = doors[0]\n",
    "        print(f'Opened door: {opened_door} \\nDo you want to change doors?')\n",
    "        selection = car\n",
    "        print(f'I do want to change doors. \\nSelection: {selection} \\nYou got a Car!\\n\\n')\n",
    "        change_won += 1\n",
    "    else:\n",
    "        doors.remove(car)\n",
    "        opened_door = random.choice(doors)\n",
    "        print(f'Opened door: {opened_door} \\nDo you want to change doors?')\n",
    "        doors.remove(opened_door)\n",
    "        selection = doors[0]\n",
    "        print(f'I do not want to change doors. \\nSelection: {selection} \\nYou got a Goat!\\n\\n')\n",
    "        change_lost += 1"
   ]
  },
  {
   "cell_type": "code",
   "execution_count": 117,
   "metadata": {},
   "outputs": [
    {
     "data": {
      "text/plain": [
       "(8, 2)"
      ]
     },
     "execution_count": 117,
     "metadata": {},
     "output_type": "execute_result"
    }
   ],
   "source": [
    "change_won, change_lost"
   ]
  },
  {
   "cell_type": "code",
   "execution_count": 107,
   "metadata": {},
   "outputs": [],
   "source": [
    "change = []\n",
    "\n",
    "for i in range(1000):\n",
    "    car = np.random.randint(0,3)\n",
    "    selection = np.random.randint(0,3)\n",
    "    doors = [0,1,2]\n",
    "    if car != selection:\n",
    "        doors.remove(selection)\n",
    "        doors.remove(car)\n",
    "        opened_door = doors[0]\n",
    "        selection = car\n",
    "        change.append(1)\n",
    "    else:\n",
    "        doors.remove(car)\n",
    "        opened_door = random.choice(doors)\n",
    "        doors.remove(opened_door)\n",
    "        selection = doors[0]\n",
    "        change.append(0)"
   ]
  },
  {
   "cell_type": "code",
   "execution_count": 110,
   "metadata": {},
   "outputs": [
    {
     "data": {
      "text/plain": [
       "0.682"
      ]
     },
     "execution_count": 110,
     "metadata": {},
     "output_type": "execute_result"
    }
   ],
   "source": [
    "sum(change)/1000"
   ]
  },
  {
   "cell_type": "code",
   "execution_count": 111,
   "metadata": {},
   "outputs": [],
   "source": [
    "kept = []\n",
    "\n",
    "for i in range(1000):\n",
    "    car = np.random.randint(0,3)\n",
    "    selection = np.random.randint(0,3)\n",
    "    doors = [0,1,2]\n",
    "    if car != selection:\n",
    "        doors.remove(selection)\n",
    "        doors.remove(car)\n",
    "        opened_door = doors[0]\n",
    "        selection = selection\n",
    "        kept.append(0)\n",
    "    else:\n",
    "        doors.remove(car)\n",
    "        opened_door = random.choice(doors)\n",
    "        doors.remove(opened_door)\n",
    "        selection = selection\n",
    "        kept.append(1)"
   ]
  },
  {
   "cell_type": "code",
   "execution_count": 112,
   "metadata": {},
   "outputs": [
    {
     "data": {
      "text/plain": [
       "0.311"
      ]
     },
     "execution_count": 112,
     "metadata": {},
     "output_type": "execute_result"
    }
   ],
   "source": [
    "sum(kept)/1000"
   ]
  },
  {
   "cell_type": "code",
   "execution_count": 103,
   "metadata": {},
   "outputs": [],
   "source": [
    "x = 1000\n",
    "y1 = change_won/1000\n",
    "y2 = kept_won/1000"
   ]
  },
  {
   "cell_type": "code",
   "execution_count": 114,
   "metadata": {},
   "outputs": [
    {
     "name": "stdout",
     "output_type": "stream",
     "text": [
      "Simulated Probabilities:\n",
      "Chance of Winning Keeping Selected Door:  0.311\n",
      "Chance of Winning Switching Selected Door:  0.682\n"
     ]
    },
    {
     "data": {
      "image/png": "[encoded data removed]",
      "text/plain": [
       "<Figure size 432x288 with 1 Axes>"
      ]
     },
     "metadata": {
      "needs_background": "light"
     },
     "output_type": "display_data"
    }
   ],
   "source": [
    "plt.plot(range(1,10**4+1), [np.mean(kept[:i]) for i in range(1,10**4+1)], label='Keep Selected Door')\n",
    "plt.plot(range(1,10**4+1), [np.mean(change[:i]) for i in range(1,10**4+1)], label='Switch Selected Door')\n",
    "plt.ylabel('Probability of Winning')\n",
    "plt.xlabel('Number of Simulations')\n",
    "plt.title('Simulated Probability of Winning the Monty Hall Game')\n",
    "plt.legend()\n",
    "print('Simulated Probabilities:')\n",
    "print('Chance of Winning Keeping Selected Door: ', np.mean(kept))\n",
    "print('Chance of Winning Switching Selected Door: ', np.mean(change))"
   ]
  },
  {
   "cell_type": "markdown",
   "metadata": {},
   "source": [
    "## Summary\n",
    "\n",
    "In this lab you further investigated the idea of Bayes' Theorem and Bayesian statistics in general through the Monty Hall problem. Hopefully this was an entertaining little experience! "
   ]
  }
 ],
 "metadata": {
  "kernelspec": {
   "display_name": "Python 3",
   "language": "python",
   "name": "python3"
  },
  "language_info": {
   "codemirror_mode": {
    "name": "ipython",
    "version": 3
   },
   "file_extension": ".py",
   "mimetype": "text/x-python",
   "name": "python",
   "nbconvert_exporter": "python",
   "pygments_lexer": "ipython3",
   "version": "3.6.6"
  }
 },
 "nbformat": 4,
 "nbformat_minor": 2
}
